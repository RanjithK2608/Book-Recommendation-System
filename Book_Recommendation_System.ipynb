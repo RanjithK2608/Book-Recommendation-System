{
  "nbformat": 4,
  "nbformat_minor": 0,
  "metadata": {
    "colab": {
      "name": "Book Recommendation System.ipynb",
      "provenance": [],
      "authorship_tag": "ABX9TyMPmSWlopd38tWy+utiGaTW",
      "include_colab_link": true
    },
    "kernelspec": {
      "name": "python3",
      "display_name": "Python 3"
    },
    "language_info": {
      "name": "python"
    }
  },
  "cells": [
    {
      "cell_type": "markdown",
      "metadata": {
        "id": "view-in-github",
        "colab_type": "text"
      },
      "source": [
        "<a href=\"https://colab.research.google.com/github/RanjithK2608/Book-Recommendation-System/blob/main/Book_Recommendation_System.ipynb\" target=\"_parent\"><img src=\"https://colab.research.google.com/assets/colab-badge.svg\" alt=\"Open In Colab\"/></a>"
      ]
    },
    {
      "cell_type": "markdown",
      "source": [
        "#<b><font color='red'> Capstone Project -4 Book Recommendation System"
      ],
      "metadata": {
        "id": "nCUH5tXhsEy7"
      }
    },
    {
      "cell_type": "markdown",
      "source": [
        "# <b><u> Project Title : Build a recommender engine that reviews customer ratings and recommend items and improve sales. </u></b>"
      ],
      "metadata": {
        "id": "QYV-CkehsNfI"
      }
    },
    {
      "cell_type": "markdown",
      "source": [
        "#<b> Problem Statement:"
      ],
      "metadata": {
        "id": "OSbnC4jmsQrJ"
      }
    },
    {
      "cell_type": "markdown",
      "source": [
        "####During the last few decades, with the rise of Youtube, Amazon, Netflix, and many other such web services, recommender systems have taken more and more place in our lives. From e-commerce (suggest to buyers articles that could interest them) to online advertisement (suggest to users the right contents, matching their preferences), recommender systems are today unavoidable in our daily online journeys.\n",
        "\n",
        "\n",
        "####In a very general way, recommender systems are algorithms aimed at suggesting relevant items to users (items being movies to watch, text to read, products to buy, or anything else depending on industries).\n",
        "####Recommender systems are really critical in some industries as they can generate a huge amount of income when they are efficient or also be a way to stand out significantly from competitors. The main objective is to create a book recommendation system for users.\n",
        "\n",
        "####Personal recommendation systems have been emerged to conduct effective search which related booksbased on user rating and interest.The proposed system used the K-NN Cosine Distance function to measure distance and Cosine Similarity function to find Similarity between the book clusters also we implemented SVD system that give us good recommandation."
      ],
      "metadata": {
        "id": "qJecqvCUsVma"
      }
    },
    {
      "cell_type": "markdown",
      "source": [
        "## **About Recommendation Engines**\n",
        "A recommendation engine, also known as a recommender system, is software that analyzes available data to make suggestions for something that a user might be interested in.\n",
        "\n",
        "A recommendation engine can be used for recommending other products besides books; for example a recommendation engine can be used to suggest movies or t-shirts or any other product based on things like similar customers who bought similar products. On Amazon’s ecommerce website, you can see an area populated by a recommendation engine, it’s the area that you see “Customers who viewed this item also viewed” and “Customers who bought this item also bought” lists.\n",
        "\n",
        "A recommendation system is usually built using 3 techniques which are **content-based filtering, collaborative filtering, and a combination of both**.\n",
        "\n",
        "* **Content-based filtering**: \n",
        "The algorithm recommends a product that is similar to those which used as watched. In simple words, In this algorithm, we try to find finding item look alike. For example, a person likes to watch Sachin Tendulkar shots, so he may like watching Ricky Ponting shots too because the two videos have similar tags and similar categories.\n",
        "Only it looks similar between the content and does not focus more on the person who is watching this. Only it recommends the product which has the highest score based on past preferences.\n",
        "\n",
        "* **Collaborative filtering:**\n",
        "Collaborative based filtering recommender systems are based on past interactions of users and target items.  In simple words here, we try to search for the look-alike customers and offer products based on what his or her lookalike has chosen. Let us understand with an example. X and Y are two similar users and X user has watched A, B, and C movie. And Y user has watched B, C, and D movie then we will recommend A movie to Y user and D movie to X user.\n",
        "Youtube has shifted its recommendation system from content-based to Collaborative based filtering technique. If you have experienced sometimes there are also videos which not at all related to your history but then also it recommends it because the other person similar to you has watched it.\n",
        "\n",
        "* **Hybrid Filtering Method:**\n",
        "It is basically a combination of both the above methods. It is a too complex model which recommends product based on your history as well based on similar users like you.\n",
        "There are some organizations that use this method like Facebook which shows news which is important for you and for others also in your network and the same is used by Linkedin too."
      ],
      "metadata": {
        "id": "TWQqG8XdsXuB"
      }
    },
    {
      "cell_type": "markdown",
      "source": [
        "##**Dataset Description**\n",
        "The Book-Crossing dataset comprises 3 files which contains 1.1 million ratings of 270,000 books by 90,000 users. The ratings are on a scale from 1 to 10.\n",
        "\n",
        "* **Users**\n",
        "Contains the users. Note that user IDs (User-ID) have been anonymized and map to\n",
        "integers. Demographic data is provided (Location, Age) if available. Otherwise, these\n",
        "fields contain NULL values.\n",
        "*  **Books**\n",
        "Books are identified by their respective ISBN. Invalid ISBNs have already been removed\n",
        "from the dataset. Moreover, some content-based information is given (Book-Title,\n",
        "Book-Author, Year-Of-Publication, Publisher), obtained from Amazon Web\n",
        "Services. Note that in the case of several authors, only the first is provided. URLs linking\n",
        "to cover images are also given, appearing in three different flavors (Image-URL-S,\n",
        "Image-URL-M, Image-URL-L), i.e., small, medium, large. These URLs point to the\n",
        "Amazon website.\n",
        "*  **Ratings**\n",
        "Contains the book rating information. Ratings (Book-Rating) are either explicit,\n",
        "expressed on a scale from 1-10 (higher values denoting higher appreciation), or implicit,\n",
        "expressed by 0."
      ],
      "metadata": {
        "id": "mjKSaBpssfHY"
      }
    },
    {
      "cell_type": "markdown",
      "source": [
        "#<b> Importing Libraries"
      ],
      "metadata": {
        "id": "xcY90ZlWsmNR"
      }
    },
    {
      "cell_type": "code",
      "execution_count": null,
      "metadata": {
        "id": "WD0HzQJipXBW"
      },
      "outputs": [],
      "source": [
        ""
      ]
    }
  ]
}